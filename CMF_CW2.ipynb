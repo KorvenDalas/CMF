{
  "nbformat": 4,
  "nbformat_minor": 0,
  "metadata": {
    "colab": {
      "provenance": [],
      "authorship_tag": "ABX9TyOaMsMaSo0L9f0H/9bRxwuK",
      "include_colab_link": true
    },
    "kernelspec": {
      "name": "python3",
      "display_name": "Python 3"
    },
    "language_info": {
      "name": "python"
    }
  },
  "cells": [
    {
      "cell_type": "markdown",
      "metadata": {
        "id": "view-in-github",
        "colab_type": "text"
      },
      "source": [
        "<a href=\"https://colab.research.google.com/github/KorvenDalas/CMF/blob/main/CMF_CW2.ipynb\" target=\"_parent\"><img src=\"https://colab.research.google.com/assets/colab-badge.svg\" alt=\"Open In Colab\"/></a>"
      ]
    },
    {
      "cell_type": "code",
      "execution_count": 33,
      "metadata": {
        "id": "8_hJLZmpJsrq"
      },
      "outputs": [],
      "source": [
        "import numpy as np\n",
        "import math\n",
        "import pandas as pd\n",
        "import matplotlib.pyplot as plt\n",
        "\n",
        "# Importing data from Yahoo Finance\n",
        "import yfinance as yf\n",
        "\n",
        "# Import datetime to handle date and time operations\n",
        "import datetime"
      ]
    },
    {
      "cell_type": "markdown",
      "source": [
        "#Option Pricing"
      ],
      "metadata": {
        "id": "BHDPlAbjJ0ZQ"
      }
    },
    {
      "cell_type": "markdown",
      "source": [
        "## Designing"
      ],
      "metadata": {
        "id": "Aj23iZuPyVFw"
      }
    },
    {
      "cell_type": "code",
      "source": [
        "# Define the ticker for BAE Systems (BA.L)\n",
        "ticker = 'BA.L'\n",
        "\n",
        "# Define the time period\n",
        "end_date = datetime.datetime.now()\n",
        "start_date = end_date - datetime.timedelta(days=2 * 365)  # Approximately two years from now\n",
        "\n",
        "# Download the data for BAE Systems\n",
        "data = yf.download(ticker, start=start_date, end=end_date)\n",
        "\n",
        "# Display the last few rows of the data\n",
        "print(data.tail())"
      ],
      "metadata": {
        "colab": {
          "base_uri": "https://localhost:8080/"
        },
        "id": "DG-vWjr6rlBx",
        "outputId": "d055560d-2d2b-41bb-fdc5-1201121f0a4f"
      },
      "execution_count": 34,
      "outputs": [
        {
          "output_type": "stream",
          "name": "stderr",
          "text": [
            "\r[*********************100%***********************]  1 of 1 completed"
          ]
        },
        {
          "output_type": "stream",
          "name": "stdout",
          "text": [
            "Price      Adj Close   Close    High          Low    Open   Volume\n",
            "Ticker          BA.L    BA.L    BA.L         BA.L    BA.L     BA.L\n",
            "Date                                                              \n",
            "2024-12-05    1247.0  1247.0  1256.0  1237.000000  1249.5  3979387\n",
            "2024-12-06    1229.5  1229.5  1251.0  1228.500000  1244.0  4419294\n",
            "2024-12-09    1199.0  1199.0  1235.5  1190.150024  1234.0  7141046\n",
            "2024-12-10    1179.0  1179.0  1195.0  1173.500000  1189.0  8578212\n",
            "2024-12-11    1198.0  1198.0  1199.5  1177.000000  1177.5  6157147\n"
          ]
        },
        {
          "output_type": "stream",
          "name": "stderr",
          "text": [
            "\n"
          ]
        }
      ]
    },
    {
      "cell_type": "code",
      "source": [
        "# Calculate daily log returns\n",
        "data['Log Return'] = np.log(data['Close'] / data['Close'].shift(1))\n",
        "\n",
        "# Drop the first NaN value\n",
        "data.dropna(inplace=True)\n",
        "\n",
        "# Calculate daily volatility (standard deviation of log returns)\n",
        "daily_volatility = data['Log Return'].std()\n",
        "\n",
        "# Annualize the volatility\n",
        "annualized_volatility = daily_volatility * np.sqrt(252)\n",
        "\n",
        "print(f\"Annualized Volatility (σ): {annualized_volatility:.4f}\")"
      ],
      "metadata": {
        "colab": {
          "base_uri": "https://localhost:8080/"
        },
        "id": "4fnW_UwPvGbm",
        "outputId": "edd51283-755b-4674-8880-66ba7eebe85f"
      },
      "execution_count": 35,
      "outputs": [
        {
          "output_type": "stream",
          "name": "stdout",
          "text": [
            "Annualized Volatility (σ): 0.2074\n"
          ]
        }
      ]
    },
    {
      "cell_type": "markdown",
      "source": [
        "## BSM & Monte Carlo Simulation"
      ],
      "metadata": {
        "id": "i1HiRq2u5fRf"
      }
    },
    {
      "cell_type": "code",
      "source": [
        "# Parameters designed option\n",
        "S0 = 12.295 # Stock price 06-12-2024\n",
        "K = 12.5   # Strike price\n",
        "sigma = 0.2070  # Volatility\n",
        "T = 0.5 # Time to maturity in years\n",
        "r = 0.0428  # Risk-free rate\n",
        "\n",
        "np.random.seed(2024)  # For reproducibility\n",
        "n_simulations = 50000  # Number of Monte Carlo simulations"
      ],
      "metadata": {
        "id": "Tz2RSNJtvuZR"
      },
      "execution_count": 36,
      "outputs": []
    },
    {
      "cell_type": "code",
      "source": [
        "from scipy.stats import norm\n",
        "import scipy.stats as si\n",
        "\n",
        "# Black-Scholes-Merton Formula\n",
        "def euro_option_bs(S, K, T, r, sigma, payoff):\n",
        "    d1 = (np.log(S / K) + (r + 0.5 * sigma ** 2) * T) / (sigma * np.sqrt(T))\n",
        "    d2 = (np.log(S / K) + (r - 0.5 * sigma ** 2) * T) / (sigma * np.sqrt(T))\n",
        "    if payoff == \"call\":\n",
        "        option_value = S * si.norm.cdf(d1, 0.0, 1.0) - K * np.exp(-r * T) * si.norm.cdf(d2, 0.0, 1.0)\n",
        "    elif payoff == \"put\":\n",
        "        option_value = - S * si.norm.cdf(-d1, 0.0, 1.0) + K * np.exp(-r * T) * si.norm.cdf(-d2, 0.0, 1.0)\n",
        "\n",
        "    return option_value\n",
        "\n",
        "\n",
        "# Monte Carlo Simulation\n",
        "def monte_carlo_option(S0, K, T, r, sigma, n_simulations):\n",
        "    Z = np.random.standard_normal(n_simulations)\n",
        "    ST = S0 * np.exp((r - 0.5 * sigma**2) * T + sigma * np.sqrt(T) * Z)\n",
        "    payoffs = np.maximum(ST - K, 0)\n",
        "    mc_price = np.exp(-r * T) * np.mean(payoffs)\n",
        "    return mc_price\n"
      ],
      "metadata": {
        "id": "ewOIpTpD0iPq"
      },
      "execution_count": 37,
      "outputs": []
    },
    {
      "cell_type": "code",
      "source": [
        "# Calculate Prices\n",
        "bs_price = euro_option_bs(S0, K, T, r, sigma, 'call')\n",
        "mc_price = monte_carlo_option(S0, K, T, r, sigma, n_simulations)\n",
        "\n",
        "# Display results\n",
        "print(f\"Option Price using Black-Scholes Model: {bs_price:>15.5f}\")\n",
        "print(f\"Option Price using Monte Carlo Simulation: {mc_price:>12.5f}\")"
      ],
      "metadata": {
        "colab": {
          "base_uri": "https://localhost:8080/"
        },
        "id": "GJEO4Ws80lsi",
        "outputId": "9877ecb6-6cba-4bb3-db41-242fd2476c7e"
      },
      "execution_count": 38,
      "outputs": [
        {
          "output_type": "stream",
          "name": "stdout",
          "text": [
            "Option Price using Black-Scholes Model:         0.74579\n",
            "Option Price using Monte Carlo Simulation:      0.75618\n"
          ]
        }
      ]
    },
    {
      "cell_type": "markdown",
      "source": [
        "# Implied Volatility"
      ],
      "metadata": {
        "id": "GZSlVUOoySj2"
      }
    },
    {
      "cell_type": "markdown",
      "metadata": {
        "id": "J-jAShxouOEf"
      },
      "source": [
        "## Newton-Raphson Method Call"
      ]
    },
    {
      "cell_type": "code",
      "execution_count": 39,
      "metadata": {
        "id": "iLoDhxY-uOEf"
      },
      "outputs": [],
      "source": [
        "def newton_vol_call(S, K, T, C, r):\n",
        "\n",
        "    #S: spot price\n",
        "    #K: strike price\n",
        "    #T: time to maturity\n",
        "    #C: Call value\n",
        "    #r: risk free rate\n",
        "    #sigma: volatility of underlying asset\n",
        "\n",
        "    MAX_ITERATIONS = 10000\n",
        "    tolerance = 0.000001\n",
        "\n",
        "    sigma = 0.25\n",
        "\n",
        "    for i in range(0, MAX_ITERATIONS):\n",
        "        d1 = (np.log(S / K) + (r + 0.5 * sigma ** 2) * T) / (sigma * np.sqrt(T))\n",
        "        d2 = (np.log(S / K) + (r - 0.5 * sigma ** 2) * T) / (sigma * np.sqrt(T))\n",
        "        price = S * si.norm.cdf(d1, 0.0, 1.0) - K * np.exp(-r * T) * si.norm.cdf(d2, 0.0, 1.0)\n",
        "        vega = S * np.sqrt(T) * si.norm.pdf(d1, 0.0, 1.0)\n",
        "\n",
        "        diff = C - price\n",
        "\n",
        "        if (abs(diff) < tolerance):\n",
        "            return sigma\n",
        "\n",
        "        # Updated sigma with safeguard for small Vega\n",
        "        if vega < 1e-10:\n",
        "            raise ValueError(\"Vega is too small, iteration may not converge.\")\n",
        "\n",
        "        sigma = sigma + diff/vega\n",
        "\n",
        "    # If not converged, return last estimate\n",
        "    raise ValueError(\"Newton-Raphson did not converge within the maximum iterations.\")"
      ]
    },
    {
      "cell_type": "code",
      "source": [
        "def newton_vol_put(S, K, T, P, r):\n",
        "\n",
        "    #S: spot price\n",
        "    #K: strike price\n",
        "    #T: time to maturity\n",
        "    #P: Put value\n",
        "    #r: risk free rate\n",
        "    #sigma: volatility of underlying asset\n",
        "\n",
        "    MAX_ITERATIONS = 10000\n",
        "    tolerance = 0.000001\n",
        "\n",
        "    sigma = 0.25\n",
        "\n",
        "    for i in range(0, MAX_ITERATIONS):\n",
        "        d1 = (np.log(S / K) + (r + 0.5 * sigma ** 2) * T) / (sigma * np.sqrt(T))\n",
        "        d2 = (np.log(S / K) + (r - 0.5 * sigma ** 2) * T) / (sigma * np.sqrt(T))\n",
        "        price = K * np.exp(-r * T) * si.norm.cdf(-d2, 0.0, 1.0)-S * si.norm.cdf(-d1, 0.0, 1.0)\n",
        "        vega = S * np.sqrt(T) * si.norm.pdf(d1, 0.0, 1.0)\n",
        "\n",
        "        diff = P - price\n",
        "\n",
        "        if (abs(diff) < tolerance):\n",
        "            return sigma\n",
        "\n",
        "        # Updated sigma with safeguard for small Vega\n",
        "        if vega < 1e-10:\n",
        "            raise ValueError(\"Vega is too small, iteration may not converge.\")\n",
        "\n",
        "        sigma = sigma + diff/vega\n",
        "\n",
        "    # If not converged, return last estimate\n",
        "    raise ValueError(\"Newton-Raphson did not converge within the maximum iterations.\")"
      ],
      "metadata": {
        "id": "o_NynJPIBIcQ"
      },
      "execution_count": 40,
      "outputs": []
    },
    {
      "cell_type": "markdown",
      "source": [
        "## Tesla Implied Volatility"
      ],
      "metadata": {
        "id": "3r1cw5Bl0EfN"
      }
    },
    {
      "cell_type": "code",
      "source": [
        "from datetime import datetime\n",
        "\n",
        "def time_to_maturity(expiration_date: str) -> float:\n",
        "    # Parse the expiration date\n",
        "    expiry = datetime.strptime(expiration_date, '%Y-%m-%d')\n",
        "\n",
        "    # Get the current date\n",
        "    today = datetime.now()\n",
        "\n",
        "    # Calculate the time difference in days\n",
        "    days_to_expiry = (expiry - today).days\n",
        "\n",
        "    # Convert days to years (365 days in a year)\n",
        "    return days_to_expiry / 365.0"
      ],
      "metadata": {
        "id": "YEgpliE00MZF"
      },
      "execution_count": 41,
      "outputs": []
    },
    {
      "cell_type": "code",
      "source": [
        "def get_spot_price(ticker: str) -> float:\n",
        "    # Fetch the stock data\n",
        "    stock = yf.Ticker(ticker)\n",
        "\n",
        "    # Get the current spot price\n",
        "    spot_price = stock.history(period = \"1d\")[\"Close\"].iloc[-1]\n",
        "\n",
        "    return spot_price"
      ],
      "metadata": {
        "id": "CaJ0wcNO6Ggf"
      },
      "execution_count": 42,
      "outputs": []
    },
    {
      "cell_type": "code",
      "source": [
        "def get_call_value(ticker: str, expiration_date: str, strike_price: float) -> float:\n",
        "\n",
        "    stock = yf.Ticker(ticker)\n",
        "    option_chain = stock.option_chain(date = expiration_date)\n",
        "    calls = option_chain.calls\n",
        "\n",
        "    # Filter for the specific strike price\n",
        "    call_row = calls[calls[\"strike\"] == strike_price]\n",
        "\n",
        "    if not call_row.empty:\n",
        "        call_value = call_row[\"lastPrice\"].iloc[0]\n",
        "    else:\n",
        "        call_value = None  # If the strike price is not found\n",
        "\n",
        "    return call_value"
      ],
      "metadata": {
        "id": "rjaDNsIk6Vuv"
      },
      "execution_count": 43,
      "outputs": []
    },
    {
      "cell_type": "code",
      "source": [
        "def get_put_price(ticker: str, expiration_date: str, strike_price: float) -> float:\n",
        "    stock = yf.Ticker(ticker)\n",
        "    option_chain = stock.option_chain(date = expiration_date)\n",
        "    puts = option_chain.puts\n",
        "\n",
        "    # Filter for the specific strike price\n",
        "    put_row = puts[puts[\"strike\"] == strike_price]\n",
        "\n",
        "    if not put_row.empty:\n",
        "        put_price = put_row[\"lastPrice\"].iloc[0]\n",
        "    else:\n",
        "        put_price = None  # If the strike price is not found\n",
        "\n",
        "    return put_price"
      ],
      "metadata": {
        "id": "k9Akff0e6n1I"
      },
      "execution_count": 44,
      "outputs": []
    },
    {
      "cell_type": "markdown",
      "source": [
        "### Tesla Put option, K = 140"
      ],
      "metadata": {
        "id": "BvacXcbx3UxL"
      }
    },
    {
      "cell_type": "code",
      "source": [
        "# Define the parameters, K = 140\n",
        "ticker = \"TSLA\"\n",
        "expiration_date = \"2025-01-17\"\n",
        "strike_price = 140\n",
        "risk_free_rate = 0.05\n",
        "\n",
        "S = get_spot_price(ticker)\n",
        "K = strike_price\n",
        "T = time_to_maturity(expiration_date)\n",
        "P = get_put_price(ticker, expiration_date, strike_price)\n",
        "r = risk_free_rate\n",
        "\n",
        "print(f\"Spot Price (S): ${S:.2f}\")\n",
        "print(f\"Put Price (P) for Strike ${K}: ${P:.2f}\")\n",
        "\n",
        "sigma = newton_vol_put(S, K, T, P, r)\n",
        "\n",
        "print(f\"Implied Volatility (σ): {sigma:.4f}\")"
      ],
      "metadata": {
        "colab": {
          "base_uri": "https://localhost:8080/",
          "height": 367
        },
        "id": "FM5PhATWyc1c",
        "outputId": "80d31e08-1871-4a27-fe23-c5834c36d06c"
      },
      "execution_count": 45,
      "outputs": [
        {
          "output_type": "stream",
          "name": "stdout",
          "text": [
            "Spot Price (S): $419.25\n",
            "Put Price (P) for Strike $140: $0.16\n"
          ]
        },
        {
          "output_type": "error",
          "ename": "ValueError",
          "evalue": "Vega is too small, iteration may not converge.",
          "traceback": [
            "\u001b[0;31m---------------------------------------------------------------------------\u001b[0m",
            "\u001b[0;31mValueError\u001b[0m                                Traceback (most recent call last)",
            "\u001b[0;32m<ipython-input-45-a2c0034975cc>\u001b[0m in \u001b[0;36m<cell line: 16>\u001b[0;34m()\u001b[0m\n\u001b[1;32m     14\u001b[0m \u001b[0mprint\u001b[0m\u001b[0;34m(\u001b[0m\u001b[0;34mf\"Put Price (P) for Strike ${K}: ${P:.2f}\"\u001b[0m\u001b[0;34m)\u001b[0m\u001b[0;34m\u001b[0m\u001b[0;34m\u001b[0m\u001b[0m\n\u001b[1;32m     15\u001b[0m \u001b[0;34m\u001b[0m\u001b[0m\n\u001b[0;32m---> 16\u001b[0;31m \u001b[0msigma\u001b[0m \u001b[0;34m=\u001b[0m \u001b[0mnewton_vol_put\u001b[0m\u001b[0;34m(\u001b[0m\u001b[0mS\u001b[0m\u001b[0;34m,\u001b[0m \u001b[0mK\u001b[0m\u001b[0;34m,\u001b[0m \u001b[0mT\u001b[0m\u001b[0;34m,\u001b[0m \u001b[0mP\u001b[0m\u001b[0;34m,\u001b[0m \u001b[0mr\u001b[0m\u001b[0;34m)\u001b[0m\u001b[0;34m\u001b[0m\u001b[0;34m\u001b[0m\u001b[0m\n\u001b[0m\u001b[1;32m     17\u001b[0m \u001b[0;34m\u001b[0m\u001b[0m\n\u001b[1;32m     18\u001b[0m \u001b[0mprint\u001b[0m\u001b[0;34m(\u001b[0m\u001b[0;34mf\"Implied Volatility (σ): {sigma:.4f}\"\u001b[0m\u001b[0;34m)\u001b[0m\u001b[0;34m\u001b[0m\u001b[0;34m\u001b[0m\u001b[0m\n",
            "\u001b[0;32m<ipython-input-40-7797b841ca8f>\u001b[0m in \u001b[0;36mnewton_vol_put\u001b[0;34m(S, K, T, P, r)\u001b[0m\n\u001b[1;32m     26\u001b[0m         \u001b[0;31m# Updated sigma with safeguard for small Vega\u001b[0m\u001b[0;34m\u001b[0m\u001b[0;34m\u001b[0m\u001b[0m\n\u001b[1;32m     27\u001b[0m         \u001b[0;32mif\u001b[0m \u001b[0mvega\u001b[0m \u001b[0;34m<\u001b[0m \u001b[0;36m1e-10\u001b[0m\u001b[0;34m:\u001b[0m\u001b[0;34m\u001b[0m\u001b[0;34m\u001b[0m\u001b[0m\n\u001b[0;32m---> 28\u001b[0;31m             \u001b[0;32mraise\u001b[0m \u001b[0mValueError\u001b[0m\u001b[0;34m(\u001b[0m\u001b[0;34m\"Vega is too small, iteration may not converge.\"\u001b[0m\u001b[0;34m)\u001b[0m\u001b[0;34m\u001b[0m\u001b[0;34m\u001b[0m\u001b[0m\n\u001b[0m\u001b[1;32m     29\u001b[0m \u001b[0;34m\u001b[0m\u001b[0m\n\u001b[1;32m     30\u001b[0m         \u001b[0msigma\u001b[0m \u001b[0;34m=\u001b[0m \u001b[0msigma\u001b[0m \u001b[0;34m+\u001b[0m \u001b[0mdiff\u001b[0m\u001b[0;34m/\u001b[0m\u001b[0mvega\u001b[0m\u001b[0;34m\u001b[0m\u001b[0;34m\u001b[0m\u001b[0m\n",
            "\u001b[0;31mValueError\u001b[0m: Vega is too small, iteration may not converge."
          ]
        }
      ]
    },
    {
      "cell_type": "markdown",
      "source": [
        "### Tesla Put option, K = 340"
      ],
      "metadata": {
        "id": "44DghjtXKz9-"
      }
    },
    {
      "cell_type": "code",
      "source": [
        "# Define the parameters, K = 340\n",
        "ticker = \"TSLA\"\n",
        "expiration_date = \"2025-01-17\"\n",
        "strike_price = 340\n",
        "risk_free_rate = 0.05\n",
        "\n",
        "S = get_spot_price(ticker)\n",
        "K = strike_price\n",
        "T = time_to_maturity(expiration_date)\n",
        "P = get_put_price(ticker, expiration_date, strike_price)\n",
        "r = risk_free_rate\n",
        "\n",
        "print(f\"Spot Price (S): ${S:.2f}\")\n",
        "print(f\"Put Price (P) for Strike ${K}: ${P:.2f}\")\n",
        "\n",
        "sigma = newton_vol_put(S, K, T, P, r)\n",
        "\n",
        "print(f\"Implied Volatility (σ): {sigma:.4f}\")"
      ],
      "metadata": {
        "colab": {
          "base_uri": "https://localhost:8080/",
          "height": 367
        },
        "outputId": "c17266a1-6e08-4267-bdfb-013b1665b4f8",
        "id": "N4kRSyg5Kg-C"
      },
      "execution_count": 46,
      "outputs": [
        {
          "output_type": "stream",
          "name": "stdout",
          "text": [
            "Spot Price (S): $419.10\n",
            "Put Price (P) for Strike $340: $5.12\n"
          ]
        },
        {
          "output_type": "error",
          "ename": "ValueError",
          "evalue": "Vega is too small, iteration may not converge.",
          "traceback": [
            "\u001b[0;31m---------------------------------------------------------------------------\u001b[0m",
            "\u001b[0;31mValueError\u001b[0m                                Traceback (most recent call last)",
            "\u001b[0;32m<ipython-input-46-38d21c83b21f>\u001b[0m in \u001b[0;36m<cell line: 16>\u001b[0;34m()\u001b[0m\n\u001b[1;32m     14\u001b[0m \u001b[0mprint\u001b[0m\u001b[0;34m(\u001b[0m\u001b[0;34mf\"Put Price (P) for Strike ${K}: ${P:.2f}\"\u001b[0m\u001b[0;34m)\u001b[0m\u001b[0;34m\u001b[0m\u001b[0;34m\u001b[0m\u001b[0m\n\u001b[1;32m     15\u001b[0m \u001b[0;34m\u001b[0m\u001b[0m\n\u001b[0;32m---> 16\u001b[0;31m \u001b[0msigma\u001b[0m \u001b[0;34m=\u001b[0m \u001b[0mnewton_vol_put\u001b[0m\u001b[0;34m(\u001b[0m\u001b[0mS\u001b[0m\u001b[0;34m,\u001b[0m \u001b[0mK\u001b[0m\u001b[0;34m,\u001b[0m \u001b[0mT\u001b[0m\u001b[0;34m,\u001b[0m \u001b[0mP\u001b[0m\u001b[0;34m,\u001b[0m \u001b[0mr\u001b[0m\u001b[0;34m)\u001b[0m\u001b[0;34m\u001b[0m\u001b[0;34m\u001b[0m\u001b[0m\n\u001b[0m\u001b[1;32m     17\u001b[0m \u001b[0;34m\u001b[0m\u001b[0m\n\u001b[1;32m     18\u001b[0m \u001b[0mprint\u001b[0m\u001b[0;34m(\u001b[0m\u001b[0;34mf\"Implied Volatility (σ): {sigma:.4f}\"\u001b[0m\u001b[0;34m)\u001b[0m\u001b[0;34m\u001b[0m\u001b[0;34m\u001b[0m\u001b[0m\n",
            "\u001b[0;32m<ipython-input-40-7797b841ca8f>\u001b[0m in \u001b[0;36mnewton_vol_put\u001b[0;34m(S, K, T, P, r)\u001b[0m\n\u001b[1;32m     26\u001b[0m         \u001b[0;31m# Updated sigma with safeguard for small Vega\u001b[0m\u001b[0;34m\u001b[0m\u001b[0;34m\u001b[0m\u001b[0m\n\u001b[1;32m     27\u001b[0m         \u001b[0;32mif\u001b[0m \u001b[0mvega\u001b[0m \u001b[0;34m<\u001b[0m \u001b[0;36m1e-10\u001b[0m\u001b[0;34m:\u001b[0m\u001b[0;34m\u001b[0m\u001b[0;34m\u001b[0m\u001b[0m\n\u001b[0;32m---> 28\u001b[0;31m             \u001b[0;32mraise\u001b[0m \u001b[0mValueError\u001b[0m\u001b[0;34m(\u001b[0m\u001b[0;34m\"Vega is too small, iteration may not converge.\"\u001b[0m\u001b[0;34m)\u001b[0m\u001b[0;34m\u001b[0m\u001b[0;34m\u001b[0m\u001b[0m\n\u001b[0m\u001b[1;32m     29\u001b[0m \u001b[0;34m\u001b[0m\u001b[0m\n\u001b[1;32m     30\u001b[0m         \u001b[0msigma\u001b[0m \u001b[0;34m=\u001b[0m \u001b[0msigma\u001b[0m \u001b[0;34m+\u001b[0m \u001b[0mdiff\u001b[0m\u001b[0;34m/\u001b[0m\u001b[0mvega\u001b[0m\u001b[0;34m\u001b[0m\u001b[0;34m\u001b[0m\u001b[0m\n",
            "\u001b[0;31mValueError\u001b[0m: Vega is too small, iteration may not converge."
          ]
        }
      ]
    },
    {
      "cell_type": "markdown",
      "source": [
        "## Tesla Historical Volatility"
      ],
      "metadata": {
        "id": "foXsPbx0Rkl8"
      }
    },
    {
      "cell_type": "code",
      "source": [
        "TSLA = yf.download(\"TSLA\", start=\"2023-12-10\", end=\"2024-12-10\")"
      ],
      "metadata": {
        "colab": {
          "base_uri": "https://localhost:8080/"
        },
        "id": "TbMBWJmpSj2o",
        "outputId": "012bbfb8-c0a1-48ab-e3e4-4c68335704b3"
      },
      "execution_count": 47,
      "outputs": [
        {
          "output_type": "stream",
          "name": "stderr",
          "text": [
            "\r[*********************100%***********************]  1 of 1 completed\n"
          ]
        }
      ]
    },
    {
      "cell_type": "code",
      "source": [
        "S = TSLA['Adj Close'].iloc[-1]\n",
        "spot_price = S.values[0]\n",
        "print(f\"The spot price is ${round(spot_price, 2)}\")"
      ],
      "metadata": {
        "colab": {
          "base_uri": "https://localhost:8080/"
        },
        "id": "buHsB1ubSjK6",
        "outputId": "72c28f32-a24d-465e-fa5f-a44a1d591ac3"
      },
      "execution_count": 48,
      "outputs": [
        {
          "output_type": "stream",
          "name": "stdout",
          "text": [
            "The spot price is $389.79\n"
          ]
        }
      ]
    },
    {
      "cell_type": "code",
      "source": [
        "log_return = np.log(TSLA['Adj Close'] / TSLA['Adj Close'].shift(1))\n",
        "vol_h = np.sqrt(252) * log_return.std()\n",
        "historical_volatility = vol_h.values[0]\n",
        "print(f\"The historical volatility is {round(historical_volatility * 100,2)} %\")"
      ],
      "metadata": {
        "id": "ZOswhb11LRb_",
        "colab": {
          "base_uri": "https://localhost:8080/"
        },
        "outputId": "540599b8-ee75-4155-c9c4-8897c1b204e4"
      },
      "execution_count": 49,
      "outputs": [
        {
          "output_type": "stream",
          "name": "stdout",
          "text": [
            "The historical volatility is 60.87 %\n"
          ]
        }
      ]
    },
    {
      "cell_type": "markdown",
      "source": [
        "# Binomial Tree"
      ],
      "metadata": {
        "id": "KuohLrezAGCc"
      }
    },
    {
      "cell_type": "code",
      "source": [
        "# Given parameters\n",
        "S0 = 100        # Initial stock price\n",
        "sigma = 0.20    # Volatility\n",
        "r = 0.05        # Risk-free rate\n",
        "delta_t = 1/3   # Time step (4 months in a year)\n",
        "\n",
        "# Calculating u, d, and a\n",
        "u = math.exp(sigma * math.sqrt(delta_t))    # Up factor\n",
        "d = math.exp(-sigma * math.sqrt(delta_t))   # Down factor\n",
        "a = math.exp(r * delta_t)                   # Risk-free growth factor\n",
        "\n",
        "# Calculating risk-neutral probability p\n",
        "p = (a - d) / (u - d)\n",
        "\n",
        "# Print results\n",
        "print(f\"u : {u:.3f} (Up factor)\")\n",
        "print(f\"d : {d:.3f} (Down factor)\")\n",
        "print(f\"a : {a:.3f} (Risk-free growth factor)\")\n",
        "print(f\"p : {p:.3f} (Risk-neutral probability)\")"
      ],
      "metadata": {
        "id": "kohOP_0IUR7C",
        "colab": {
          "base_uri": "https://localhost:8080/"
        },
        "outputId": "c0a131d6-d7c9-488c-85b5-bb287ff4c3f8"
      },
      "execution_count": 50,
      "outputs": [
        {
          "output_type": "stream",
          "name": "stdout",
          "text": [
            "u : 1.122 (Up factor)\n",
            "d : 0.891 (Down factor)\n",
            "a : 1.017 (Risk-free growth factor)\n",
            "p : 0.544 (Risk-neutral probability)\n"
          ]
        }
      ]
    },
    {
      "cell_type": "markdown",
      "source": [
        "## American call option, K = $100, three-step tree"
      ],
      "metadata": {
        "id": "eI7utOOHDqkn"
      }
    },
    {
      "cell_type": "code",
      "source": [
        "import os\n",
        "\n",
        "# Parameters\n",
        "K = 100.0               # Strike price\n",
        "N = 3                   # Number of time steps\n",
        "payoff = \"call\"         # Option type\n",
        "\n",
        "# Initialize price tree\n",
        "S = np.zeros((N + 1, N + 1))\n",
        "S[0, 0] = S0            # Initial stock price\n",
        "z = 1                   # Tracks states per time step\n",
        "\n",
        "# Build binomial tree\n",
        "for t in range(1, N + 1):                   # Loop over time steps\n",
        "    for i in range(z):                      # Loop over states\n",
        "        S[i, t] = S[i, t - 1] * u           # Up move\n",
        "        S[i + 1, t] = S[i, t - 1] * d       # Down move\n",
        "    z += 1                                  # Increment states\n",
        "\n",
        "S  # Resulting price tree"
      ],
      "metadata": {
        "colab": {
          "base_uri": "https://localhost:8080/"
        },
        "id": "UagWgZCcBxoB",
        "outputId": "7161119c-fcce-4b55-ba0d-be29b5f527c2"
      },
      "execution_count": 51,
      "outputs": [
        {
          "output_type": "execute_result",
          "data": {
            "text/plain": [
              "array([[100.        , 112.24009024, 125.97837858, 141.39824581],\n",
              "       [  0.        ,  89.09472523, 100.        , 112.24009024],\n",
              "       [  0.        ,   0.        ,  79.37870064,  89.09472523],\n",
              "       [  0.        ,   0.        ,   0.        ,  70.72223522]])"
            ]
          },
          "metadata": {},
          "execution_count": 51
        }
      ]
    },
    {
      "cell_type": "code",
      "source": [
        "S_T = S[:, -1]                              # Extract final stock prices from the tree\n",
        "V = np.zeros((N + 1, N + 1))                # Initialize value tree for option pricing\n",
        "\n",
        "# Calculate option payoff at maturity\n",
        "if payoff == \"call\":\n",
        "    V[:, -1] = np.maximum(S_T - K, 0.0)     # Payoff for call option\n",
        "elif payoff == \"put\":\n",
        "    V[:, -1] = np.maximum(K - S_T, 0.0)     # Payoff for put option\n",
        "\n",
        "V  # Resulting option value tree"
      ],
      "metadata": {
        "colab": {
          "base_uri": "https://localhost:8080/"
        },
        "id": "FEhGo07aEaa_",
        "outputId": "662d5982-67be-4624-8e75-661a9dba6a96"
      },
      "execution_count": 52,
      "outputs": [
        {
          "output_type": "execute_result",
          "data": {
            "text/plain": [
              "array([[ 0.        ,  0.        ,  0.        , 41.39824581],\n",
              "       [ 0.        ,  0.        ,  0.        , 12.24009024],\n",
              "       [ 0.        ,  0.        ,  0.        ,  0.        ],\n",
              "       [ 0.        ,  0.        ,  0.        ,  0.        ]])"
            ]
          },
          "metadata": {},
          "execution_count": 52
        }
      ]
    },
    {
      "cell_type": "code",
      "source": [
        "# For American options\n",
        "if payoff == \"call\":\n",
        "    for j in range(N - 1, -1, -1):          # Loop backward through time steps\n",
        "        for i in range(j + 1):              # Loop through states at each step\n",
        "                                            # Max of early exercise or theoretical value\n",
        "            V[i, j] = np.maximum(S[i, j] - K, (p * V[i, j + 1] + (1 - p) * V[i + 1, j + 1]) / a)\n",
        "\n",
        "elif payoff == \"put\":\n",
        "    for j in range(N - 1, -1, -1):          # Loop backward through time steps\n",
        "        for i in range(j + 1):              # Loop through states at each step\n",
        "                                            # Max of early exercise or theoretical value\n",
        "            V[i, j] = np.maximum(K - S[i, j], (p * V[i, j + 1] + (1 - p) * V[i + 1, j + 1]) / a)\n",
        "\n",
        "V  # Final option value tree\n"
      ],
      "metadata": {
        "colab": {
          "base_uri": "https://localhost:8080/"
        },
        "id": "dNPivCKjFgU1",
        "outputId": "6b8d0081-30fc-41a1-b431-2f820b9d334c"
      },
      "execution_count": 53,
      "outputs": [
        {
          "output_type": "execute_result",
          "data": {
            "text/plain": [
              "array([[11.04387109, 17.71388824, 27.6312332 , 41.39824581],\n",
              "       [ 0.        ,  3.50065379,  6.54586268, 12.24009024],\n",
              "       [ 0.        ,  0.        ,  0.        ,  0.        ],\n",
              "       [ 0.        ,  0.        ,  0.        ,  0.        ]])"
            ]
          },
          "metadata": {},
          "execution_count": 53
        }
      ]
    }
  ]
}